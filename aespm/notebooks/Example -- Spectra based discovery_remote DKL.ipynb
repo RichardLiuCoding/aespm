{
 "cells": [
  {
   "cell_type": "markdown",
   "id": "52fc90c1",
   "metadata": {},
   "source": [
    "# Import packages"
   ]
  },
  {
   "cell_type": "code",
   "execution_count": null,
   "id": "e5d74dc1",
   "metadata": {},
   "outputs": [],
   "source": [
    "## import \n",
    "import os\n",
    "import numpy as np\n",
    "import time\n",
    "import matplotlib.pyplot as plt\n",
    "# from tqdm import tqdm\n",
    "# import h5py\n",
    "import atomai\n",
    "import gpax\n",
    "from sklearn.model_selection import train_test_split\n",
    "from atomai.utils import get_coord_grid, extract_patches_and_spectra, extract_subimages\n",
    "import Pyro5.api\n",
    "import io\n",
    "import time\n",
    "from SciFiReaders import IgorIBWReader\n",
    "from IPython.display import display, clear_output\n",
    "import atomai as aoi\n",
    "import torch"
   ]
  },
  {
   "cell_type": "code",
   "execution_count": null,
   "id": "f5a28f25",
   "metadata": {},
   "outputs": [],
   "source": [
    "import os\n",
    "import numpy as np\n",
    "import time\n",
    "import matplotlib.pyplot as plt\n",
    "from IPython.display import display, clear_output\n",
    "\n",
    "from scipy.signal import find_peaks\n",
    "from sklearn.model_selection import train_test_split\n",
    "\n",
    "import gpax\n",
    "import atomai as aoi\n"
   ]
  },
  {
   "cell_type": "code",
   "execution_count": null,
   "id": "725e408a",
   "metadata": {},
   "outputs": [],
   "source": [
    "from aespm import *\n",
    "from utils import *\n",
    "from tools import *\n",
    "# import aespm.tools as at"
   ]
  },
  {
   "cell_type": "markdown",
   "id": "7f32050e",
   "metadata": {},
   "source": [
    "# Make the connection and custom functions"
   ]
  },
  {
   "cell_type": "code",
   "execution_count": null,
   "id": "dbb1281e",
   "metadata": {},
   "outputs": [],
   "source": [
    "host = ''\n",
    "username = ''\n",
    "password = ''\n",
    "\n",
    "folder = r\"C:\\Users\\Asylum User\\Documents\\Asylum Research Data\\240410\"\n",
    "\n",
    "exp = Experiment(folder=folder, connection=[host, username, password])"
   ]
  },
  {
   "cell_type": "markdown",
   "id": "c94e6ab3",
   "metadata": {},
   "source": [
    "## Custom functions for taking measurements"
   ]
  },
  {
   "cell_type": "code",
   "execution_count": null,
   "id": "d0525b73",
   "metadata": {},
   "outputs": [],
   "source": [
    "## Commonly used custom functions\n",
    "\n",
    "def load_ibw(self, folder=\"C:\\\\Users\\\\Asylum User\\\\Documents\\\\AEtesting\\\\data_exchange\"):\n",
    "    '''\n",
    "    Read the latest ibw file saved in a given folder.\n",
    "    '''\n",
    "    fname = get_files(path=folder, client=self.client)[0]\n",
    "    return ibw_read(fname, connection=self.connection)\n",
    "\n",
    "exp.add_func(load_ibw)\n",
    "\n",
    "# Function to move the probe with the given displacement \n",
    "def move_tip(self, distance, v0=None, s=None):\n",
    "    \n",
    "    # Enable the stage move --> 5 sec, 8 seconds for safety\n",
    "    move_tip(r=distance, v0=v0, s=s, connection=self.connection)\n",
    "\n",
    "exp.add_func(move_tip)\n",
    "\n",
    "# Function to check the file number in a given folder\n",
    "def check_files(self):\n",
    "    return check_file_number(path=self.folder, connection=self.connection)\n",
    "exp.add_func(check_files)\n",
    "\n",
    "def load_ibw_parameter(self, data):\n",
    "    \n",
    "    scan_angle = data.header['ScanAngle']\n",
    "    xpixels, ypixels = data.header['PointsLines'],data.header['ScanPoints']\n",
    "    xsize, ysize = data.header['FastScanSize'],data.header['SlowScanSize']\n",
    "\n",
    "    xfactor = xsize / xpixels\n",
    "    yfactor = ysize / ypixels\n",
    "    \n",
    "    p = {\n",
    "        'ScanAngle': scan_angle,\n",
    "        'xpixels': xpixels,\n",
    "        'ypixels': ypixels,\n",
    "        'xsize': xsize,\n",
    "        'ysize': ysize,\n",
    "        'xfactor': xfactor,\n",
    "        'yfactor': yfactor,\n",
    "        'center': np.array([xsize, size]) / 2,\n",
    "    }\n",
    "    \n",
    "    for key in p:\n",
    "        self.update_param(key=key, value=p[key])\n",
    "exp.add_func(load_ibw_parameter)\n",
    "\n",
    "def convert_coord(self, coord):\n",
    "    '''\n",
    "    Convert the coordinate from pixel to distance.\n",
    "    Apply rotation if needed.\n",
    "    '''\n",
    "    x, y = coord\n",
    "    \n",
    "    if len(np.shape(coord)) == 1:\n",
    "        x, y = [x], [y]\n",
    "    scan_angle = self.param['ScanAngle']\n",
    "    \n",
    "    # Convert angle to radians\n",
    "    theta_rad = np.radians(-scan_angle)\n",
    "    \n",
    "    # Create 2D rotation matrix\n",
    "    rot_matrix = np.array([[np.cos(theta_rad), -np.sin(theta_rad)],\n",
    "                           [np.sin(theta_rad), np.cos(theta_rad)]])\n",
    "    \n",
    "    # Apply the rotation matrix to the coordinates\n",
    "    center = (np.array([self.param['xpixels'], self.param['ypixels']])-1) // 2\n",
    "    x_rot, y_rot = np.zeros_like(x), np.zeros_like(y)\n",
    "    for i in range(len(x)):\n",
    "        x_rot[i], y_rot[i] = np.dot(rot_matrix, (np.array([x[i], y[i]])-center)) + center\n",
    "    \n",
    "    # Convert the pixels to the distance\n",
    "    xfactor, yfactor = self.param['xfactor'], self.param['yfactor']\n",
    "\n",
    "    positions = np.zeros([len(x), 2])\n",
    "\n",
    "    for i in range(len(x)):\n",
    "        positions[i] = np.array([x_rot[i] * xfactor, y_rot[i] * yfactor])\n",
    "\n",
    "    # Sort the positions according to x first and y second\n",
    "    pos_sorted = sorted(positions, key=lambda x: (x[1], x[0]))\n",
    "    return pos_sorted\n",
    "\n",
    "exp.add_func(convert_coord)\n",
    "\n",
    "def measure_spectrum(self, coord, v0, basename, index, retry=100):\n",
    "    \n",
    "    x, y = self.convert_coord(coord)\n",
    "    r = np.array([x, y]) - self.param['center']\n",
    "    self.move_tip(distance=r, v0=v0, s=self.param['sensitivity'])\n",
    "    self.execute('IVDoItDART')\n",
    "    \n",
    "    time.sleep(5)\n",
    "    retries = 0\n",
    "    while retries < retry:\n",
    "        try:\n",
    "            \n",
    "            download_file(connection=connection, file_path=os.path.join(folder, '{}_{:04d}.ibw'.format(basename, index)), local_file_name='spec.ibw')\n",
    "            d = load_ibw(file='spec.ibw', ss=True)\n",
    "            return d\n",
    "        except FileNotFoundError:\n",
    "            retries += 1\n",
    "            time.sleep(2)\n",
    "            \n",
    "exp.add_func(measure_spectrum)"
   ]
  },
  {
   "cell_type": "code",
   "execution_count": 2,
   "id": "b1f45ee2",
   "metadata": {
    "ExecuteTime": {
     "end_time": "2024-04-16T01:14:13.294352Z",
     "start_time": "2024-04-16T01:14:13.277083Z"
    }
   },
   "outputs": [
    {
     "data": {
      "text/plain": [
       "2"
      ]
     },
     "execution_count": 2,
     "metadata": {},
     "output_type": "execute_result"
    }
   ],
   "source": [
    "def scal(obj):\n",
    "    index = len(obj.bias) // 4\n",
    "    index_up = [2*index, -1]\n",
    "    index_down = [index, 3*index]\n",
    "    return np.abs(np.mean(obj.amp_off[index_up])-np.mean(obj.amp_off[index_down]))"
   ]
  },
  {
   "cell_type": "markdown",
   "id": "d3207237",
   "metadata": {},
   "source": [
    "## Custom functions for DKL"
   ]
  },
  {
   "cell_type": "code",
   "execution_count": null,
   "id": "1d30253f",
   "metadata": {},
   "outputs": [],
   "source": [
    "def generate_seed(self, num_seed, )"
   ]
  },
  {
   "cell_type": "code",
   "execution_count": null,
   "id": "dee95221",
   "metadata": {},
   "outputs": [],
   "source": [
    "## do measuremnt on seed points:\n",
    "y_measured_unnor = []\n",
    "y_measured_raw = []\n",
    "\n",
    "spm_control('ChangeName', value='PTO_seed_', connection=connection)\n",
    "\n",
    "for i in range (seed_points):\n",
    "    print(\"Working on {}/{} points\".format(i+1, seed_points), end='\\r')\n",
    "    if i % 10 == 0: # Re-tune the probe every 10 measurements at the center of the image\n",
    "        spm_control('ClearForce', connection=connection)\n",
    "        spm_control('GoThere', wait=1, connection=connection)\n",
    "        tune_probe(num=1, center=340e3, width=50e3, connection=connection)\n",
    "        \n",
    "    x, y = float(indices_measured[i][0]), float(indices_measured[i][1])\n",
    "    array = spectrum_calc(x,y, basename='PTO_seed', index=i)# ask richard\n",
    "    # y_measured_raw.append(array)\n",
    "    current_y = scal(array)\n",
    "    y_measured_unnor.append(current_y)\n",
    "    \n",
    "    clear_output(wait=True)\n",
    "    plt.figure(figsize=[4,4])\n",
    "    plt.plot(array.bias, array.amp_off, '.-')\n",
    "    plt.xlabel('Sample Bias (V)')\n",
    "    plt.ylabel('Piezo response (a.u.)')\n",
    "    \n",
    "    plt.show()\n"
   ]
  },
  {
   "cell_type": "code",
   "execution_count": null,
   "id": "cc423b02",
   "metadata": {},
   "outputs": [],
   "source": [
    "def get_files(path, retry=10, sleep_time=6e-3, client=None):\n",
    "    '''\n",
    "    Get the file names and sort them in the new to old modification time from a given folder.\n",
    "\n",
    "    Input:\n",
    "        path    - String: path to the folder where the SPM data is saved locally\n",
    "        retry   - Int: number of retries if any of the data file is occupied by SPM controller\n",
    "        sleep_time - float: wait time between the retries\n",
    "        client  - SSH client returned by utils.return_connection()\n",
    "    Output:\n",
    "        fname   - List: a list of filenames in the order of new to old modification time\n",
    "    '''\n",
    "    command = 'dir \"{}\" /b /o:-d'.format(path)\n",
    "    retries = 0\n",
    "    while retries < retry:\n",
    "        try:\n",
    "            # Run the command and capture its output\n",
    "            if client == None:\n",
    "                result = subprocess.run(command, shell=True, capture_output=True, text=True, check=True)\n",
    "                file_names = result.stdout.split('\\n')\n",
    "                return [os.path.join(path, file) for file in file_names]\n",
    "            else:\n",
    "                stdin, stdout, stderr = client.exec_command(command)\n",
    "                # Read the output of the command\n",
    "                file_names = stdout.read().decode('utf-8').splitlines()\n",
    "                return [os.path.join(path, file) for file in file_names]\n",
    "            \n",
    "        except FileNotFoundError:\n",
    "            print(\"File not found. Retrying {} times...\".format(retries), end='\\r')\n",
    "            retries += 1\n",
    "            time.sleep(sleep_time)\n",
    "        except PermissionError:\n",
    "            print(\"Permission denied. Retrying {} times...\".format(retries), end='\\r')\n",
    "            retries += 1\n",
    "            time.sleep(sleep_time)\n",
    "    return 0\n",
    "\n",
    "def check_file_number(path, wait=1e-1, retry=1e4, client=None):\n",
    "    '''\n",
    "    Check if the spectrum/topo measurement is done by monitoring the number of files in the save folder.\n",
    "    It waits until the number of files has changed to return a True value.\n",
    "    '''\n",
    "    num = len(get_files(path, client=client))\n",
    "    num_new = num\n",
    "    retries = 0\n",
    "    # Check the file number in the folder until 16 min is passed\n",
    "    while num_new == num and retries < retry:\n",
    "        num_new = len(get_files(path, client=client))\n",
    "        retries += 1\n",
    "        time.sleep(wait)\n",
    "    return True\n",
    "\n",
    "def check_status(mode='Scan', retry=1800, connection=None):\n",
    "    '''\n",
    "    Check the status of the measurements. Will hold the workflow until the measurement is done.\n",
    "    \n",
    "    Input:\n",
    "        mode    - String: 'Scan': scan measurement\n",
    "                          'FMap': Spectral measurement on a grid\n",
    "                          'Spec': Single spectral measurement\n",
    "        retry   - Int: number of total retries before giving up this checking\n",
    "        connection - SSH connection: return by utils.return_connection()\n",
    "    Output:\n",
    "        N/A\n",
    "    Examples:\n",
    "        spm_control('DownScan', wait=1.5)\n",
    "        check_status(mode='Scan')\n",
    "    '''\n",
    "    \n",
    "    if mode == 'Scan':\n",
    "        key = 'ScanStatus'\n",
    "    elif mode == 'FMap':\n",
    "        key = 'FMapStatus':\n",
    "    elif mode == 'Spec':\n",
    "        key = \n",
    "    else:\n",
    "        print('Mode not supported yet!')\n",
    "        \n",
    "    retries = 0\n",
    "    while retries < retry:\n",
    "        status = read_spm(key=key, connection=connection)\n",
    "        if status == 0:\n",
    "            return True\n",
    "        elif status == 1:\n",
    "            retries += 1\n",
    "        else:\n",
    "            print('Error in reading the status of the measurement.')\n",
    "\n",
    "def ibw_read(fname, retry=10, wait=0.1, copy=True, connection=None):\n",
    "    '''\n",
    "    Make a copy of realtime saved image and read the wave data from it.\n",
    "    Four data channels will be read with the order of ZSenor/Height -> Amplitude -> Phase -> Height/Deflection.\n",
    "    Each channel contains both the trace and retrace scan lines.\n",
    "    '''\n",
    "    retries = 0\n",
    "    if connection==None:\n",
    "        if copy==True:\n",
    "            while retries < retry:\n",
    "                try:\n",
    "                    shutil.copy(fname, \"C:\\\\Users\\\\Asylum User\\\\Documents\\\\AEtesting\\\\copy.ibw\")\n",
    "                    # data = bw.load(\"C:\\\\Users\\\\Asylum User\\\\Documents\\\\AEtesting\\\\copy.ibw\")\n",
    "                    # wave = data['wave']['wData']\n",
    "                    return load_ibw(fname)\n",
    "                except FileNotFoundError:\n",
    "                    print(\"File not found. Retrying {} times...\".format(retries), end='\\r')\n",
    "                    retries += 1\n",
    "                    time.sleep(wait)\n",
    "                except PermissionError:\n",
    "                    print(\"Permission denied. Retrying {} times...\".format(retries), end='\\r')\n",
    "                    retries += 1\n",
    "                    time.sleep(wait)\n",
    "        else:\n",
    "            return load_ibw(fname)\n",
    "            # return bw.load(fname)['wave']['wData'].T\n",
    "    else:\n",
    "        download_file(connection=connection, file_path=fname, local_file_name='temp.ibw')\n",
    "        time.sleep(wait)\n",
    "        return load_ibw('temp.ibw')\n",
    "        # return bw.load('temp.ibw')['wave']['wData'].T\n",
    "    return 0"
   ]
  },
  {
   "cell_type": "markdown",
   "id": "9440bb9c",
   "metadata": {},
   "source": [
    "# Acquire a scan"
   ]
  },
  {
   "cell_type": "code",
   "execution_count": null,
   "id": "393c94fa",
   "metadata": {},
   "outputs": [],
   "source": [
    "exp.execute('DownScan')\n",
    "\n",
    "w = exp.load_ibw(folder=exp.folder)\n",
    "\n",
    "exp.load_ibw_parameter(w)\n",
    "\n",
    "plt.imshow(w.data[0], origin='lower')"
   ]
  },
  {
   "cell_type": "code",
   "execution_count": null,
   "id": "04d2a7b2",
   "metadata": {},
   "outputs": [],
   "source": [
    "## atomai patches\n",
    "coordinates = get_coord_grid(img, step = 1, return_dict=False)\n",
    "\n",
    "# extract subimage for each point on a grid\n",
    "window_size = 10\n",
    "features_all, coords, _ = extract_subimages(img, coordinates, window_size)\n",
    "features_all = features_all[:,:,:,0]\n",
    "coords = np.array(coords, dtype=int)\n",
    "indices_all = coords\n",
    "\n",
    "print(coords.shape)\n",
    "print(features_all.shape)\n",
    "\n",
    "# see a patch : what atomai gave\n",
    "k = 200\n",
    "\n",
    "f, (ax1, ax2) = plt.subplots(1, 2, figsize=(6, 3), dpi =100)\n",
    "ax1.imshow(img)\n",
    "ax1.scatter(coords[k, 1], coords[k, 0], marker='X', s=50, c='r')\n",
    "\n",
    "\n",
    "ax2.imshow(features_all[k])"
   ]
  },
  {
   "cell_type": "code",
   "execution_count": null,
   "id": "1eb6d2e7",
   "metadata": {},
   "outputs": [],
   "source": [
    "coordinates = aoi.utils.get_coord_grid(img, step=1, return_dict=False)\n",
    "features, targets, indices = aoi.utils.extract_patches_and_spectra(\n",
    "    specim, img, coordinates=coordinates, window_size=window_size, avg_pool=1)"
   ]
  },
  {
   "cell_type": "code",
   "execution_count": null,
   "id": "2002aeb9",
   "metadata": {},
   "outputs": [],
   "source": [
    "norm_ = lambda x: (x - x.min()) / x.ptp()\n",
    "features = norm_(features_all)\n",
    "\n",
    "n, d1, d2 = features.shape\n",
    "X = features.reshape(n, d1*d2)\n",
    "X.shape\n",
    "\n",
    "# use only 0.02% of grid data points as initial training points\n",
    "(X_measured, X_unmeasured, indices_measured, indices_unmeasured) = train_test_split(\n",
    "      X, indices_all, test_size=0.999, shuffle=True, random_state=5)\n",
    "\n",
    "seed_points = len(X_measured)\n",
    "seed_points\n",
    "\n",
    "np.savez(\"output/seeds_PTO_20240401_3.npz\", X_measured = X_measured, X_unmeasured = X_unmeasured, \n",
    "         indices_measured = indices_measured, indices_unmeasured = indices_unmeasured)\n",
    "\n"
   ]
  },
  {
   "cell_type": "code",
   "execution_count": 4,
   "id": "b1e9c65d",
   "metadata": {
    "ExecuteTime": {
     "end_time": "2024-04-16T03:22:28.938690Z",
     "start_time": "2024-04-16T03:22:28.920996Z"
    }
   },
   "outputs": [
    {
     "data": {
      "text/plain": [
       "False"
      ]
     },
     "execution_count": 4,
     "metadata": {},
     "output_type": "execute_result"
    }
   ],
   "source": [
    "import os\n",
    "f1 = r'C:\\Users\\Asylum User\\Documents\\AEtesting\\ToIgor.arcmd'\n",
    "    \n",
    "f2 = r'C:\\Users\\Asylum User\\Documents\\AEtesting\\SendToIgor.bat'\n",
    "\n",
    "os.path.exists(f1)"
   ]
  },
  {
   "cell_type": "code",
   "execution_count": 5,
   "id": "fb802d02",
   "metadata": {
    "ExecuteTime": {
     "end_time": "2024-04-16T03:23:02.353690Z",
     "start_time": "2024-04-16T03:23:02.345240Z"
    }
   },
   "outputs": [],
   "source": [
    "if os.path.exists(f1):\n",
    "    with open(f1, 'w') as fopen:\n",
    "        fopen.write('')"
   ]
  },
  {
   "cell_type": "code",
   "execution_count": 6,
   "id": "ad17ba0d",
   "metadata": {
    "ExecuteTime": {
     "end_time": "2024-04-16T03:25:03.365723Z",
     "start_time": "2024-04-16T03:25:03.146744Z"
    }
   },
   "outputs": [
    {
     "ename": "PermissionError",
     "evalue": "[WinError 5] Access is denied: 'C:\\\\Users\\\\Asylum User'",
     "output_type": "error",
     "traceback": [
      "\u001b[1;31m---------------------------------------------------------------------------\u001b[0m",
      "\u001b[1;31mPermissionError\u001b[0m                           Traceback (most recent call last)",
      "Cell \u001b[1;32mIn[6], line 5\u001b[0m\n\u001b[0;32m      3\u001b[0m \u001b[38;5;66;03m# Check if the directory exists, if not, create it\u001b[39;00m\n\u001b[0;32m      4\u001b[0m \u001b[38;5;28;01mif\u001b[39;00m \u001b[38;5;129;01mnot\u001b[39;00m os\u001b[38;5;241m.\u001b[39mpath\u001b[38;5;241m.\u001b[39mexists(dir_path):\n\u001b[1;32m----> 5\u001b[0m     os\u001b[38;5;241m.\u001b[39mmakedirs(dir_path)\n\u001b[0;32m      7\u001b[0m \u001b[38;5;66;03m# Create the file\u001b[39;00m\n\u001b[0;32m      8\u001b[0m \u001b[38;5;28;01mwith\u001b[39;00m \u001b[38;5;28mopen\u001b[39m(f1, \u001b[38;5;124m'\u001b[39m\u001b[38;5;124mw\u001b[39m\u001b[38;5;124m'\u001b[39m) \u001b[38;5;28;01mas\u001b[39;00m file:\n",
      "File \u001b[1;32m<frozen os>:215\u001b[0m, in \u001b[0;36mmakedirs\u001b[1;34m(name, mode, exist_ok)\u001b[0m\n",
      "File \u001b[1;32m<frozen os>:215\u001b[0m, in \u001b[0;36mmakedirs\u001b[1;34m(name, mode, exist_ok)\u001b[0m\n",
      "File \u001b[1;32m<frozen os>:225\u001b[0m, in \u001b[0;36mmakedirs\u001b[1;34m(name, mode, exist_ok)\u001b[0m\n",
      "\u001b[1;31mPermissionError\u001b[0m: [WinError 5] Access is denied: 'C:\\\\Users\\\\Asylum User'"
     ]
    }
   ],
   "source": [
    "dir_path = os.path.dirname(f1)\n",
    "\n",
    "# Check if the directory exists, if not, create it\n",
    "if not os.path.exists(dir_path):\n",
    "    os.makedirs(dir_path)\n",
    "\n",
    "# Create the file\n",
    "with open(f1, 'w') as file:\n",
    "    file.write('')"
   ]
  },
  {
   "cell_type": "code",
   "execution_count": null,
   "id": "d6a55938",
   "metadata": {},
   "outputs": [],
   "source": []
  },
  {
   "cell_type": "code",
   "execution_count": null,
   "id": "2b8aca54",
   "metadata": {},
   "outputs": [],
   "source": []
  },
  {
   "cell_type": "code",
   "execution_count": null,
   "id": "0b875e98",
   "metadata": {},
   "outputs": [],
   "source": []
  },
  {
   "cell_type": "code",
   "execution_count": null,
   "id": "8c1388c9",
   "metadata": {},
   "outputs": [],
   "source": []
  },
  {
   "cell_type": "code",
   "execution_count": null,
   "id": "00ad6e4b",
   "metadata": {},
   "outputs": [],
   "source": []
  },
  {
   "cell_type": "code",
   "execution_count": null,
   "id": "cfb0f154",
   "metadata": {},
   "outputs": [],
   "source": []
  },
  {
   "cell_type": "code",
   "execution_count": null,
   "id": "c7b5501f",
   "metadata": {},
   "outputs": [],
   "source": []
  },
  {
   "cell_type": "code",
   "execution_count": null,
   "id": "57aa9175",
   "metadata": {},
   "outputs": [],
   "source": []
  },
  {
   "cell_type": "code",
   "execution_count": null,
   "id": "819267d4",
   "metadata": {},
   "outputs": [],
   "source": []
  }
 ],
 "metadata": {
  "kernelspec": {
   "display_name": "Python 3 (ipykernel)",
   "language": "python",
   "name": "python3"
  },
  "language_info": {
   "codemirror_mode": {
    "name": "ipython",
    "version": 3
   },
   "file_extension": ".py",
   "mimetype": "text/x-python",
   "name": "python",
   "nbconvert_exporter": "python",
   "pygments_lexer": "ipython3",
   "version": "3.11.5"
  },
  "toc": {
   "base_numbering": 1,
   "nav_menu": {},
   "number_sections": true,
   "sideBar": true,
   "skip_h1_title": false,
   "title_cell": "Table of Contents",
   "title_sidebar": "Contents",
   "toc_cell": false,
   "toc_position": {},
   "toc_section_display": true,
   "toc_window_display": false
  }
 },
 "nbformat": 4,
 "nbformat_minor": 5
}
