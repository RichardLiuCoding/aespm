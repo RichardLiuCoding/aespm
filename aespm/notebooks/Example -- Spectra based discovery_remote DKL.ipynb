{
 "cells": [
  {
   "cell_type": "markdown",
   "id": "52fc90c1",
   "metadata": {},
   "source": [
    "# Import packages"
   ]
  },
  {
   "cell_type": "code",
   "execution_count": null,
   "id": "e5d74dc1",
   "metadata": {},
   "outputs": [],
   "source": [
    "import numpy as np\n",
    "import matplotlib.pyplot as plt\n",
    "import math\n",
    "import time\n",
    "\n",
    "from sklearn.model_selection import train_test_split\n",
    "from IPython.display import display, clear_output\n",
    "\n",
    "import atomai as aoi"
   ]
  },
  {
   "cell_type": "code",
   "execution_count": null,
   "id": "725e408a",
   "metadata": {},
   "outputs": [],
   "source": [
    "import aespm as ae"
   ]
  },
  {
   "cell_type": "markdown",
   "id": "7f32050e",
   "metadata": {},
   "source": [
    "# Make the connection and custom functions"
   ]
  },
  {
   "cell_type": "code",
   "execution_count": null,
   "id": "dbb1281e",
   "metadata": {},
   "outputs": [],
   "source": [
    "host = ''\n",
    "username = ''\n",
    "password = ''\n",
    "\n",
    "folder = r\"C:\\Users\\Asylum User\\Documents\\Asylum Research Data\\240410\"\n",
    "\n",
    "exp = ae.Experiment(folder=folder, connection=[host, username, password])"
   ]
  },
  {
   "cell_type": "code",
   "execution_count": null,
   "id": "f16bb963",
   "metadata": {},
   "outputs": [],
   "source": [
    "# let's read some useful parameters first\n",
    "\n",
    "xsens, ysens= ae.read_spm(key=['XLVDTSens', 'YLVDTSens'], connection=exp.connection)\n",
    "exp.update_param('sensitivity', value=[xsens, ysens])\n",
    "\n",
    "exp.param['sensitivity']"
   ]
  },
  {
   "cell_type": "markdown",
   "id": "c94e6ab3",
   "metadata": {},
   "source": [
    "## Custom functions for taking measurements"
   ]
  },
  {
   "cell_type": "code",
   "execution_count": null,
   "id": "d0525b73",
   "metadata": {},
   "outputs": [],
   "source": [
    "## Commonly used custom functions\n",
    "\n",
    "def read_data(self, folder=\"C:\\\\Users\\\\Asylum User\\\\Documents\\\\AEtesting\\\\data_exchange\"):\n",
    "    '''\n",
    "    Read the latest ibw file saved in a given folder.\n",
    "    '''\n",
    "    fname = ae.get_files(path=folder, client=self.client)[0]\n",
    "    return ae.ibw_read(fname, connection=self.connection)\n",
    "\n",
    "exp.add_func(read_data)\n",
    "\n",
    "# Function to move the probe with the given displacement \n",
    "def move_probe(self, distance, v0=None, s=None):\n",
    "    \n",
    "    # Enable the stage move --> 5 sec, 8 seconds for safety\n",
    "    ae.move_tip(r=distance, v0=v0, s=s, connection=self.connection)\n",
    "\n",
    "exp.add_func(move_probe)\n",
    "\n",
    "# Function to check the file number in a given folder\n",
    "def check_files(self):\n",
    "    return ae.check_file_number(path=self.folder, connection=self.connection)\n",
    "exp.add_func(check_files)\n",
    "\n",
    "def load_ibw_parameter(self, data):\n",
    "    \n",
    "    scan_angle = data.header['ScanAngle']\n",
    "    xpixels, ypixels = data.header['PointsLines'],data.header['ScanPoints']\n",
    "    xsize, ysize = data.header['FastScanSize'],data.header['SlowScanSize']\n",
    "\n",
    "    xfactor = xsize / xpixels\n",
    "    yfactor = ysize / ypixels\n",
    "    \n",
    "    p = {\n",
    "        'ScanAngle': scan_angle,\n",
    "        'xpixels': xpixels,\n",
    "        'ypixels': ypixels,\n",
    "        'xsize': xsize,\n",
    "        'ysize': ysize,\n",
    "        'xfactor': xfactor,\n",
    "        'yfactor': yfactor,\n",
    "        'center': np.array([xsize, ysize]) / 2,\n",
    "    }\n",
    "    \n",
    "    for key in p:\n",
    "        self.update_param(key=key, value=p[key])\n",
    "exp.add_func(load_ibw_parameter)\n",
    "\n",
    "def convert_coord(self, coord):\n",
    "    '''\n",
    "    Convert the coordinate from pixel to distance.\n",
    "    Apply rotation if needed.\n",
    "    '''\n",
    "    x, y = coord\n",
    "    \n",
    "    if len(np.shape(coord)) == 1:\n",
    "        x, y = [x], [y]\n",
    "    scan_angle = self.param['ScanAngle']\n",
    "    \n",
    "    # Convert angle to radians\n",
    "    theta_rad = np.radians(-scan_angle)\n",
    "    \n",
    "    # Create 2D rotation matrix\n",
    "    rot_matrix = np.array([[np.cos(theta_rad), -np.sin(theta_rad)],\n",
    "                           [np.sin(theta_rad), np.cos(theta_rad)]])\n",
    "    \n",
    "    # Apply the rotation matrix to the coordinates\n",
    "    center = (np.array([self.param['xpixels'], self.param['ypixels']])-1) // 2\n",
    "    x_rot, y_rot = np.zeros_like(x), np.zeros_like(y)\n",
    "    for i in range(len(x)):\n",
    "        x_rot[i], y_rot[i] = np.dot(rot_matrix, (np.array([x[i], y[i]])-center)) + center\n",
    "    \n",
    "    # Convert the pixels to the distance\n",
    "    xfactor, yfactor = self.param['xfactor'], self.param['yfactor']\n",
    "\n",
    "    positions = np.zeros([len(x), 2])\n",
    "\n",
    "    for i in range(len(x)):\n",
    "        positions[i] = np.array([x_rot[i] * xfactor, y_rot[i] * yfactor])\n",
    "\n",
    "    # Sort the positions according to x first and y second\n",
    "    pos_sorted = sorted(positions, key=lambda x: (x[1], x[0]))\n",
    "    return pos_sorted[0]\n",
    "\n",
    "exp.add_func(convert_coord)\n",
    "\n",
    "def measure_spectrum(self, coord, basename, index, retry=100):\n",
    "    \n",
    "    x, y = self.convert_coord(coord)\n",
    "    r = np.array([x, y]) - self.param['center']\n",
    "    self.move_probe(distance=r, v0=self.param['v0'], s=self.param['sensitivity'])\n",
    "    self.execute('IVDoItDART')\n",
    "    \n",
    "    time.sleep(5)\n",
    "    retries = 0\n",
    "    while retries < retry:\n",
    "        try:\n",
    "            ae.download_file(connection=self.connection, file_path=os.path.join(self.folder, '{}_{:04d}.ibw'.format(basename, index)), \n",
    "                          local_file_name='spec.ibw')\n",
    "            d = load_ibw(file='spec.ibw', ss=True)\n",
    "            return d\n",
    "        except FileNotFoundError:\n",
    "            retries += 1\n",
    "            time.sleep(2)\n",
    "            \n",
    "exp.add_func(measure_spectrum)"
   ]
  },
  {
   "cell_type": "code",
   "execution_count": 2,
   "id": "b1f45ee2",
   "metadata": {
    "ExecuteTime": {
     "end_time": "2024-04-16T01:14:13.294352Z",
     "start_time": "2024-04-16T01:14:13.277083Z"
    }
   },
   "outputs": [
    {
     "data": {
      "text/plain": [
       "2"
      ]
     },
     "execution_count": 2,
     "metadata": {},
     "output_type": "execute_result"
    }
   ],
   "source": [
    "def scal(obj):\n",
    "    index = len(obj.bias) // 4\n",
    "    index_up = [2*index, -1]\n",
    "    index_down = [index, 3*index]\n",
    "    return np.abs(np.mean(obj.amp_off[index_up])-np.mean(obj.amp_off[index_down]))"
   ]
  },
  {
   "cell_type": "markdown",
   "id": "d3207237",
   "metadata": {},
   "source": [
    "## Custom functions for DKL"
   ]
  },
  {
   "cell_type": "code",
   "execution_count": null,
   "id": "1d30253f",
   "metadata": {},
   "outputs": [],
   "source": [
    "def generate_seed(self, basename, num_seed=None, show=True):\n",
    "\n",
    "    if num_seed == None:\n",
    "        num_seed = self.param['seed_points']\n",
    "        \n",
    "    y_measured_unnor = []\n",
    "    y_measured_raw = []\n",
    "\n",
    "    exp.execute('ChangeName', value=basename+'_')\n",
    "\n",
    "    for i in range (num_seed):\n",
    "        print(\"Working on {}/{} points\".format(i+1, num_seed), end='\\r')\n",
    "        \n",
    "        if i % 10 == 0: # Re-tune the probe every 10 measurements at the center of the image\n",
    "            exp.execute('ClearForce')\n",
    "            exp.execute('GoThere', wait=1)\n",
    "            ae.tune_probe(num=1, center=320e3, width=50e3, connection=self.connection)\n",
    "            \n",
    "        x, y = float(indices_measured[i][0]), float(indices_measured[i][1])\n",
    "        \n",
    "        spec = self.measure_spectrum([x, y], basename=basename, index=i) # ask Richard\n",
    "        scalarizer_y = scal(spec)\n",
    "        y_measured_unnor.append(scalarizer_y)\n",
    "\n",
    "        if show:\n",
    "            clear_output(wait=True)\n",
    "            plt.figure(figsize=[4,4])\n",
    "            plt.plot(spec.bias, spec.amp_off, '.-')\n",
    "            plt.xlabel('Sample Bias (V)')\n",
    "            plt.ylabel('Piezo response (a.u.)')\n",
    "            plt.show()\n",
    "            \n",
    "        self.update_param('y_measured_unnor', y_measured_unnor)\n",
    "        self.update_param('y_measured_raw', y_measured_raw)\n",
    "        self.update_param('num_seed', num_seed)\n",
    "        self.update_param('y_measured', np.asarray(y_measured_unnor) * 1e10)\n",
    "        \n",
    "exp.add_func(generate_seed)"
   ]
  },
  {
   "cell_type": "code",
   "execution_count": null,
   "id": "dee95221",
   "metadata": {},
   "outputs": [],
   "source": [
    "def run_dkl(self, basename, exploration_steps=200, num_cycles=1000, acquisition='EI', xi=0.025, show=True, save=None):\n",
    "\n",
    "    data_dim = self.param['X_unmeasured'].shape[-1]\n",
    "    window_size = self.param['window_size']\n",
    "    exp.execute('ChangeName', value=basename+'_')\n",
    "    \n",
    "    for e in range(exploration_steps):\n",
    "        \n",
    "        print(\"Working on: {}/{}\".format(e+1, exploration_steps), end='\\r')\n",
    "        if e % 10 == 0: # Re-tune the probe every 10 measurements at the center of the image\n",
    "            exp.execute('ClearForce')\n",
    "            exp.execute('GoThere', wait=1)\n",
    "            ae.tune_probe(num=1, center=320e3, width=50e3, connection=exp.connection)\n",
    "        # Update GP posterior\n",
    "        dklgp = aoi.models.dklGPR(data_dim, embedim=2, precision=\"single\")\n",
    "        dklgp.fit(self.param['X_measured'], self.param['y_measured'], training_cycles=num_cycles)\n",
    "        mean, var = dklgp.predict(self.param['X_unmeasured'], batch_size=len(self.param['X_unmeasured']))\n",
    "        \n",
    "        # Compute acquisition function\n",
    "        obj, next_point_idx = dklgp.thompson(self.param['X_unmeasured'])\n",
    "        # obj, next_point_idx = dklgp.EI(self.param['X_unmeasured'])\n",
    "        next_point = self.param['indices_unmeasured'][next_point_idx]\n",
    "        print(next_point_idx)\n",
    "        # Do \"measurement\"\n",
    "        x, y = float(next_point[0, 0]), float(next_point[0, 1])\n",
    "        to_plot = self.measure_spectrum([x, y], basename=basename, index=e)\n",
    "        # array = to_plot.amp_off\n",
    "        \n",
    "        measured_point = scal(to_plot) * 1e10\n",
    "        \n",
    "        # Plot current result\n",
    "        # Update train and test datasets\n",
    "        self.update_param('X_measured', np.append(X_measured, X_unmeasured[next_point_idx][None], 0))\n",
    "        self.update_param('X_unmeasured', np.delete(X_unmeasured, next_point_idx, 0))\n",
    "        self.update_param('y_measured', np.append(y_measured, measured_point))\n",
    "        self.update_param('indices_measured', np.append(indices_measured, next_point[None], 0))\n",
    "        self.update_param('indices_unmeasured', np.delete(indices_unmeasured, next_point_idx, 0))\n",
    "\n",
    "        if show:\n",
    "            size_x = int(np.sqrt(mean.shape[0]))\n",
    "            \n",
    "            clear_output(wait=True)\n",
    "            fig, ax = plt.subplots(2,2,figsize=[6,6])\n",
    "            ax[0, 0].plot(to_plot.bias, to_plot.amp_off, '.-')\n",
    "            ax[0, 0].set_xlabel('Sample Bias (V)')\n",
    "            ax[0, 0].set_ylabel('Piezo response (a.u.)')\n",
    "                          \n",
    "            ax[0, 1].imshow(img, origin='lower')\n",
    "            ax[0, 1].set_title('Height')\n",
    "        \n",
    "            ax[1, 0].imshow(mean.reshape(size_x, size_x), origin='lower')\n",
    "            ax[1, 0].set_title('Prediction')\n",
    "        \n",
    "            ax[1, 1].imshow(var.reshape(size_x, size_x), origin='lower')\n",
    "            ax[1, 1].set_title('Uncertainty')\n",
    "        \n",
    "            plt.tight_layout()\n",
    "            plt.show()\n",
    "    if save is not None:\n",
    "        # Save final traindata\n",
    "        np.savez(\"results_PTO_20240401.npz\", \n",
    "                 X_measured = self.param['X_measured'], \n",
    "                 X_unmeasured = self.param['X_unmeasured'],\n",
    "                 y_measured = self.param['y_measured'], \n",
    "                 indices_measured = self.param['indices_measured'], \n",
    "                 indices_unmeasured = self.param['indices_unmeasured'])\n",
    "\n",
    "exp.add_func(run_dkl)"
   ]
  },
  {
   "cell_type": "markdown",
   "id": "9440bb9c",
   "metadata": {},
   "source": [
    "# Acquire a scan"
   ]
  },
  {
   "cell_type": "code",
   "execution_count": null,
   "id": "393c94fa",
   "metadata": {},
   "outputs": [],
   "source": [
    "exp.execute('DownScan', wait=1.5)\n",
    "exp.check_files()"
   ]
  },
  {
   "cell_type": "code",
   "execution_count": null,
   "id": "04d2a7b2",
   "metadata": {},
   "outputs": [],
   "source": [
    "image = exp.read_data(folder=exp.folder)\n",
    "exp.load_ibw_parameter(image)\n",
    "\n",
    "# Use the topography map as the structural map\n",
    "img = image.data[0]\n",
    "\n",
    "plt.imshow(image.data[0], origin='lower')"
   ]
  },
  {
   "cell_type": "code",
   "execution_count": null,
   "id": "1eb6d2e7",
   "metadata": {},
   "outputs": [],
   "source": [
    "# Generate image patches and corresponding indices\n",
    "\n",
    "window_size = 16\n",
    "exp.update_param('window_size', window_size)\n",
    "coordinates = aoi.utils.get_coord_grid(img, step=1, return_dict=False)\n",
    "# extract subimage for each point on a grid\n",
    "features_all, coords, _ = aoi.utils.extract_subimages(img, coordinates, window_size)\n",
    "\n",
    "features_all.shape, coords.shape"
   ]
  },
  {
   "cell_type": "code",
   "execution_count": null,
   "id": "2002aeb9",
   "metadata": {},
   "outputs": [],
   "source": [
    "features_all = features_all[:,:,:,0]\n",
    "coords = np.array(coords, dtype=int)\n",
    "indices_all = coords\n",
    "\n",
    "print(coords.shape)\n",
    "print(features_all.shape)\n",
    "\n",
    "# see a patch : what atomai gave\n",
    "k = 200\n",
    "\n",
    "f, (ax1, ax2) = plt.subplots(1, 2, figsize=(6, 3), dpi =100)\n",
    "ax1.imshow(img)\n",
    "ax1.scatter(coords[k, 1], coords[k, 0], marker='X', s=50, c='r')\n",
    "\n",
    "\n",
    "ax2.imshow(features_all[k])"
   ]
  },
  {
   "cell_type": "code",
   "execution_count": null,
   "id": "d6a55938",
   "metadata": {},
   "outputs": [],
   "source": [
    "norm_ = lambda x: (x - x.min()) / x.ptp()\n",
    "features = norm_(features_all)\n",
    "\n",
    "n, d1, d2 = features.shape\n",
    "X = features.reshape(n, d1*d2)\n",
    "X.shape\n",
    "\n",
    "# use only 0.02% of grid data points as initial training points\n",
    "(X_measured, X_unmeasured, indices_measured, indices_unmeasured) = train_test_split(\n",
    "      X, indices_all, test_size=0.99975, shuffle=True, random_state=5)\n",
    "\n",
    "seed_points = len(X_measured)\n",
    "\n",
    "\n",
    "np.savez(\"seeds_PTO_20240415_1.npz\", X_measured = X_measured, X_unmeasured = X_unmeasured, \n",
    "         indices_measured = indices_measured, indices_unmeasured = indices_unmeasured)\n",
    "\n",
    "p = {\n",
    "    'X_measured': X_measured,\n",
    "    'X_unmeasured': X_unmeasured,\n",
    "    'indices_measured': indices_measured,\n",
    "    'indices_unmeasured': indices_unmeasured,\n",
    "    'features_all': features_all,\n",
    "    'X': X,\n",
    "    'indices_all': indices_all,\n",
    "    'seed_points': seed_points\n",
    "}\n",
    "\n",
    "for key in p:\n",
    "    exp.update_param(key, p[key])\n",
    "\n",
    "seed_points"
   ]
  },
  {
   "cell_type": "markdown",
   "id": "1db12e3a",
   "metadata": {},
   "source": [
    "## Generate seed"
   ]
  },
  {
   "cell_type": "code",
   "execution_count": null,
   "id": "0b875e98",
   "metadata": {},
   "outputs": [],
   "source": [
    "# Move the probe to the center of the image, and record the X Y sensor readings there\n",
    "action_list = [\n",
    "    ['ClearForce', None, None], # Clear any existing force points\n",
    "    ['GoThere', None, 1], # Move to the center of the image\n",
    "]\n",
    "\n",
    "exp.execute_sequence(action_list)\n",
    "\n",
    "v0 = read_spm(key=['PIDSLoop.0.Setpoint', 'PIDSLoop.1.Setpoint'], connection=exp.connection)\n",
    "\n",
    "exp.update_param('v0', v0)"
   ]
  },
  {
   "cell_type": "code",
   "execution_count": null,
   "id": "8c1388c9",
   "metadata": {},
   "outputs": [],
   "source": [
    "exp.generate_seed('PTO_seed')"
   ]
  },
  {
   "cell_type": "markdown",
   "id": "000b24cd",
   "metadata": {},
   "source": [
    "## Run the DKL"
   ]
  },
  {
   "cell_type": "code",
   "execution_count": null,
   "id": "cfb0f154",
   "metadata": {},
   "outputs": [],
   "source": [
    "exp.run_dkl('PTO_DKL1', num_cycles=200, save='test')"
   ]
  },
  {
   "cell_type": "code",
   "execution_count": null,
   "id": "c7b5501f",
   "metadata": {},
   "outputs": [],
   "source": []
  },
  {
   "cell_type": "code",
   "execution_count": null,
   "id": "57aa9175",
   "metadata": {},
   "outputs": [],
   "source": []
  },
  {
   "cell_type": "code",
   "execution_count": null,
   "id": "819267d4",
   "metadata": {},
   "outputs": [],
   "source": []
  }
 ],
 "metadata": {
  "kernelspec": {
   "display_name": "Python 3 (ipykernel)",
   "language": "python",
   "name": "python3"
  },
  "language_info": {
   "codemirror_mode": {
    "name": "ipython",
    "version": 3
   },
   "file_extension": ".py",
   "mimetype": "text/x-python",
   "name": "python",
   "nbconvert_exporter": "python",
   "pygments_lexer": "ipython3",
   "version": "3.9.16"
  },
  "toc": {
   "base_numbering": 1,
   "nav_menu": {},
   "number_sections": true,
   "sideBar": true,
   "skip_h1_title": false,
   "title_cell": "Table of Contents",
   "title_sidebar": "Contents",
   "toc_cell": false,
   "toc_position": {},
   "toc_section_display": true,
   "toc_window_display": false
  }
 },
 "nbformat": 4,
 "nbformat_minor": 5
}
