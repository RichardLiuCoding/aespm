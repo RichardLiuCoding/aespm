{
 "cells": [
  {
   "cell_type": "markdown",
   "id": "64b419e8",
   "metadata": {},
   "source": [
    "# load packages"
   ]
  },
  {
   "cell_type": "code",
   "execution_count": null,
   "id": "01aedc26",
   "metadata": {},
   "outputs": [],
   "source": [
    "import os\n",
    "import numpy as np\n",
    "import scipy as sp\n",
    "import matplotlib.pyplot as plt\n",
    "from IPython.display import display, clear_output\n",
    "\n",
    "import cv2\n",
    "\n",
    "from aespm import *\n",
    "from utils import *\n",
    "from tools import *"
   ]
  },
  {
   "cell_type": "code",
   "execution_count": null,
   "id": "90f63e88",
   "metadata": {},
   "outputs": [],
   "source": [
    "# Import packages for VAE\n",
    "import atomai as aoi\n",
    "import cv2\n",
    "import torch\n",
    "import torch.nn as nn\n",
    "tt = torch.tensor\n",
    "\n",
    "import gpax\n",
    "import jax.numpy as jnp\n",
    "gpax.utils.enable_x64()\n",
    "import pickle"
   ]
  },
  {
   "cell_type": "markdown",
   "id": "7f3f585b",
   "metadata": {},
   "source": [
    "# Make the connection and pre-define functions"
   ]
  },
  {
   "cell_type": "code",
   "execution_count": null,
   "id": "500cc371",
   "metadata": {},
   "outputs": [],
   "source": [
    "host = ''\n",
    "username = ''\n",
    "password = ''\n",
    "\n",
    "folder = r\"C:\\Users\\Asylum User\\Documents\\Asylum Research Data\\240410\"\n",
    "\n",
    "exp = Experiment(folder=folder, connection=[host, username, password])"
   ]
  },
  {
   "cell_type": "markdown",
   "id": "579830c0",
   "metadata": {},
   "source": [
    "## Custom functions for the workflow"
   ]
  },
  {
   "cell_type": "code",
   "execution_count": null,
   "id": "e35bf2c9",
   "metadata": {},
   "outputs": [],
   "source": [
    "## Commonly used custom functions\n",
    "\n",
    "def load_ibw(self, folder=\"C:\\\\Users\\\\Asylum User\\\\Documents\\\\AEtesting\\\\data_exchange\"):\n",
    "    '''\n",
    "    Read the latest ibw file saved in a given folder.\n",
    "    '''\n",
    "    fname = get_files(path=folder, client=self.client)[0]\n",
    "    return ibw_read(fname, copy=False, connection=self.connection)\n",
    "\n",
    "exp.add_func(load_ibw)\n",
    "\n",
    "def convert_coord(self, data, coord):\n",
    "    '''\n",
    "    Convert the coordinate from pixel to distance.\n",
    "    Apply rotation if needed.\n",
    "    '''\n",
    "    x, y = coord\n",
    "    \n",
    "    scan_angle = data.header['ScanAngle']\n",
    "    \n",
    "    img = data[0] # This is the height channel\n",
    "    \n",
    "    # Convert angle to radians\n",
    "    theta_rad = np.radians(-scan_angle)\n",
    "    \n",
    "    # Create 2D rotation matrix\n",
    "    rot_matrix = np.array([[np.cos(theta_rad), -np.sin(theta_rad)],\n",
    "                           [np.sin(theta_rad), np.cos(theta_rad)]])\n",
    "    \n",
    "    # Apply the rotation matrix to the coordinates\n",
    "    center = (np.array(np.shape(img))-1) // 2\n",
    "    x_rot, y_rot = np.zeros_like(x), np.zeros_like(y)\n",
    "    for i in range(len(x)):\n",
    "        x_rot[i], y_rot[i] = np.dot(rot_matrix, (np.array([x[i], y[i]])-center)) + center\n",
    "    \n",
    "    # Convert the pixels to the distance\n",
    "    xpixels, ypixels = data.header['PointsLines'],data.header['ScanPoints']\n",
    "    xsize, ysize = data.header['FastScanSize'],data.header['SlowScanSize']\n",
    "\n",
    "    xfactor = xsize / xpixels\n",
    "    yfactor = ysize / ypixels\n",
    "\n",
    "    positions = np.zeros([len(x), 2])\n",
    "\n",
    "    for i in range(len(x)):\n",
    "        positions[i] = np.array([x_rot[i] * xfactor, y_rot[i] * yfactor])\n",
    "\n",
    "    # Sort the positions according to x first and y second\n",
    "    pos_sorted = sorted(positions, key=lambda x: (x[1], x[0]))\n",
    "    \n",
    "    p = {\n",
    "        'ScanAngle': scan_angle,\n",
    "        'xpixels': xpixels,\n",
    "        'ypixels': ypixels,\n",
    "        'xsize': xsize,\n",
    "        'ysize': ysize,\n",
    "        'xfactor': xfactor,\n",
    "        'yfactor': yfactor,\n",
    "    }\n",
    "    \n",
    "    for key in p:\n",
    "        self.update_param(key=key, value=p[key])\n",
    "    \n",
    "    return pos_sorted\n",
    "\n",
    "exp.add_func(convert_coord)\n",
    "\n",
    "# Function to move the probe with the given displacement \n",
    "def move_tip(self, distance, v0=None, s=None):\n",
    "    \n",
    "    # Enable the stage move --> 5 sec, 8 seconds for safety\n",
    "    move_tip(r=distance, v0=v0, s=s, connection=self.connection)\n",
    "\n",
    "exp.add_func(move_tip)\n",
    "\n",
    "# Function to move the probe to the location r and start force distance measurement.\n",
    "def measure_fd(self, fname, r, v0=None):\n",
    "    '''\n",
    "    Move the probe to the location r and start force distance measurement.\n",
    "    '''\n",
    "    action_list = [\n",
    "        ['ChangeName', fname, None], # Change file names\n",
    "        ['ClearForce', None, None], # Clear any existing force points\n",
    "        ['GoThere', None, 1], # Move to the center of the image\n",
    "        ['move_tip', [r], None, v0=v0, s=self.param['sensitivity']], # Move the tip to location r\n",
    "        ['SingleForce', None, None], # Start a DART spec\n",
    "        ['check_files', None, 1], # Check file numbers in the data save folder\n",
    "    ]\n",
    "    \n",
    "    self.execute_sequence(action_list)\n",
    "    \n",
    "exp.add_func(measure_fd)\n",
    "    \n",
    "# Function to check the file number in a given folder\n",
    "def check_files(self):\n",
    "    return check_file_number(path=self.folder, connection=self.connection)\n",
    "exp.add_func(check_files)"
   ]
  },
  {
   "cell_type": "markdown",
   "id": "3559757c",
   "metadata": {},
   "source": [
    "## Custom functions for VAE"
   ]
  },
  {
   "cell_type": "code",
   "execution_count": null,
   "id": "e715261a",
   "metadata": {},
   "outputs": [],
   "source": [
    "# Help function to crop images into patches\n",
    "from typing import Tuple, Optional, Dict, Union, List\n",
    "\n",
    "def get_imgstack(imgdata: np.ndarray,\n",
    "                 coord: np.ndarray,\n",
    "                 r: int) -> Tuple[np.ndarray]:\n",
    "    \"\"\"\n",
    "    Extracts subimages centered at specified coordinates\n",
    "    for a single image\n",
    "    Args:\n",
    "        imgdata (3D numpy array):\n",
    "            Prediction of a neural network with dimensions\n",
    "            :math:`height \\\\times width \\\\times n channels`\n",
    "        coord (N x 2 numpy array):\n",
    "            (x, y) coordinates\n",
    "        r (int):\n",
    "            Window size\n",
    "    Returns:\n",
    "        2-element tuple containing\n",
    "        - Stack of subimages\n",
    "        - (x, y) coordinates of their centers\n",
    "    \"\"\"\n",
    "    img_cr_all = []\n",
    "    com = []\n",
    "    for c in coord:\n",
    "        cx = int(np.around(c[0]))\n",
    "        cy = int(np.around(c[1]))\n",
    "        if r % 2 != 0:\n",
    "            img_cr = np.copy(\n",
    "                imgdata[cx-r//2:cx+r//2+1,\n",
    "                        cy-r//2:cy+r//2+1])\n",
    "        else:\n",
    "            img_cr = np.copy(\n",
    "                imgdata[cx-r//2:cx+r//2,\n",
    "                        cy-r//2:cy+r//2])\n",
    "        if img_cr.shape[0:2] == (int(r), int(r)) and not np.isnan(img_cr).any():\n",
    "            img_cr_all.append(img_cr[None, ...])\n",
    "            com.append(c[None, ...])\n",
    "    if len(img_cr_all) == 0:\n",
    "        return None, None\n",
    "    img_cr_all = np.concatenate(img_cr_all, axis=0)\n",
    "    com = np.concatenate(com, axis=0)\n",
    "    return img_cr_all, com\n",
    "\n",
    "\n",
    "def extract_subimages(imgdata: np.ndarray,\n",
    "                      coordinates: Union[Dict[int, np.ndarray], np.ndarray],\n",
    "                      window_size: int, coord_class: int = 0) -> Tuple[np.ndarray]:\n",
    "\n",
    "    if isinstance(coordinates, np.ndarray):\n",
    "        coordinates = np.concatenate((\n",
    "            coordinates, np.zeros((coordinates.shape[0], 1))), axis=-1)\n",
    "        coordinates = {0: coordinates}\n",
    "    if np.ndim(imgdata) == 2:\n",
    "        imgdata = imgdata[None, ..., None]\n",
    "    subimages_all, com_all, frames_all = [], [], []\n",
    "    for i, (img, coord) in enumerate(\n",
    "            zip(imgdata, coordinates.values())):\n",
    "        coord_i = coord[np.where(coord[:, 2] == coord_class)][:, :2]\n",
    "        stack_i, com_i = get_imgstack(img, coord_i, window_size)\n",
    "        if stack_i is None:\n",
    "            continue\n",
    "        subimages_all.append(stack_i)\n",
    "        com_all.append(com_i)\n",
    "        frames_all.append(np.ones(len(com_i), int) * i)\n",
    "    if len(subimages_all) > 0:\n",
    "        subimages_all = np.concatenate(subimages_all, axis=0)\n",
    "        com_all = np.concatenate(com_all, axis=0)\n",
    "        frames_all = np.concatenate(frames_all, axis=0)\n",
    "\n",
    "    return subimages_all, com_all, frames_all"
   ]
  },
  {
   "cell_type": "markdown",
   "id": "3ec51948",
   "metadata": {},
   "source": [
    "# Acquire an image"
   ]
  },
  {
   "cell_type": "code",
   "execution_count": null,
   "id": "32e3a932",
   "metadata": {},
   "outputs": [],
   "source": [
    "exp.execute('DownScan')\n",
    "\n",
    "w = exp.load_ibw(folder=exp.folder)\n",
    "\n",
    "plt.imshow(w.data[0], origin='lower')"
   ]
  },
  {
   "cell_type": "markdown",
   "id": "924b2ac4",
   "metadata": {},
   "source": [
    "# Extract features with VAE"
   ]
  },
  {
   "cell_type": "code",
   "execution_count": null,
   "id": "8201c6e4",
   "metadata": {},
   "outputs": [],
   "source": [
    "# Normalize the image\n",
    "img = w.data[0]\n",
    "\n",
    "s1, s2 = np.shape(img)\n",
    "\n",
    "image = (img - img.min()) / img.ptp()"
   ]
  },
  {
   "cell_type": "code",
   "execution_count": null,
   "id": "ca950d5c",
   "metadata": {},
   "outputs": [],
   "source": [
    "# We need to crop the whole image into small patched before running VAE\n",
    "\n",
    "# skip is the distance between center of the neighboring patches\n",
    "skip = 1\n",
    "coordinates = aoi.utils.get_coord_grid(image[::skip,::skip], step = 1, return_dict=False)\n",
    "# coordinates"
   ]
  },
  {
   "cell_type": "code",
   "execution_count": null,
   "id": "fa36fdd6",
   "metadata": {},
   "outputs": [],
   "source": [
    "import random\n",
    "import matplotlib.patches as p\n",
    "\n",
    "# image patch size\n",
    "window_size = 10\n",
    "patches, coords, _ = extract_subimages(image[::skip, ::skip], coordinates, window_size)\n",
    "patches = patches.squeeze()\n",
    "np.shape(patches), np.shape(coords)\n",
    "\n",
    "# Let's visualize the image patches after cropping\n",
    "img_index = [random.randint(0, len(patches)) for _ in range(16)]\n",
    "\n",
    "fig,ax=plt.subplots()\n",
    "ax.imshow(img)\n",
    "\n",
    "for i in range(16):\n",
    "    y,x = coords[img_index[i]]\n",
    "    rec = p.Rectangle((x,y), 10, 10, linewidth=1, edgecolor='r', facecolor='none')\n",
    "    ax.add_patch(rec)\n",
    "\n",
    "fig,ax=plt.subplots(4,4,figsize=[12,12])\n",
    "for i in range(16):\n",
    "    ax[i//4,i%4].imshow(patches[img_index[i]])"
   ]
  },
  {
   "cell_type": "code",
   "execution_count": null,
   "id": "20bde805",
   "metadata": {},
   "outputs": [],
   "source": [
    "# Running the model with atomai rvae\n",
    "input_dim = (window_size,window_size)\n",
    "vae = aoi.models.VAE(input_dim, latent_dim=2,\n",
    "                    numlayers_encoder=3, numhidden_encoder=1024,\n",
    "                    numlayers_decoder=3, numhidden_decoder=1024,\n",
    "                    skip=True)\n",
    "\n",
    "vae.fit(patches, training_cycles=100, batch_size=75, loss=\"ce\",\n",
    "         filename='vae')"
   ]
  },
  {
   "cell_type": "code",
   "execution_count": null,
   "id": "11ba8d7f",
   "metadata": {},
   "outputs": [],
   "source": [
    "# Latent representation\n",
    "vae.manifold2d(d = 10, origin='lower')"
   ]
  },
  {
   "cell_type": "code",
   "execution_count": null,
   "id": "149dcac2",
   "metadata": {},
   "outputs": [],
   "source": [
    "m, s = vae.encode(patches)"
   ]
  },
  {
   "cell_type": "code",
   "execution_count": null,
   "id": "7c5423dc",
   "metadata": {},
   "outputs": [],
   "source": [
    "# Decode a specific position in the latent space\n",
    "\n",
    "z = [-0.6,-0.4]\n",
    "thres = 0.25\n",
    "index = np.where(np.sqrt((m[:,0]-z[0])**2 + (m[:,1]-z[1])**2) < thres)\n",
    "\n",
    "plt.figure(figsize=[4,4])\n",
    "plt.imshow(vae.decode(np.array(z)).squeeze(), origin='lower')\n",
    "fix,ax=plt.subplots(3,4,figsize=[12, 10])\n",
    "for i in range(12):\n",
    "    ax[i//4, i%4].imshow(patches[index[0][i]], origin='lower')\n",
    "    # print(coordinates[index[i]])\n"
   ]
  },
  {
   "cell_type": "code",
   "execution_count": null,
   "id": "58ed1796",
   "metadata": {},
   "outputs": [],
   "source": [
    "coord = np.array(coords[index])\n",
    "y, x = coord[:,0], coord[:,1]\n",
    "# len(coord)\n",
    "# coord\n",
    "print(len(coord))\n",
    "plt.imshow(img, origin='lower')\n",
    "plt.plot(x, y, 'ro')"
   ]
  },
  {
   "cell_type": "markdown",
   "id": "36a52814",
   "metadata": {},
   "source": [
    "# Convert the coordinate unit from pixel to distance"
   ]
  },
  {
   "cell_type": "code",
   "execution_count": null,
   "id": "3de60677",
   "metadata": {},
   "outputs": [],
   "source": [
    "pos_sorted = exp.convert_coord(data=w, coord=[x, y])"
   ]
  },
  {
   "cell_type": "markdown",
   "id": "abd19be2",
   "metadata": {},
   "source": [
    "# Take force spectrum on the edge points"
   ]
  },
  {
   "cell_type": "code",
   "execution_count": null,
   "id": "94452943",
   "metadata": {},
   "outputs": [],
   "source": [
    "# Move the probe to the center of the image, and record the X Y sensor readings there\n",
    "action_list = [\n",
    "    ['ClearForce', None, None], # Clear any existing force points\n",
    "    ['GoThere', None, 1], # Move to the center of the image\n",
    "]\n",
    "\n",
    "exp.execute_sequence(action_list)\n",
    "\n",
    "v0 = read_spm(key=['PIDSLoop.0.Setpoint', 'PIDSLoop.1.Setpoint'], connection=exp.connection)\n",
    "\n",
    "pos0 = np.array([exp.param['xsize']/2, exp.param['ysize']/2])\n",
    "\n",
    "for i in range(len(pos_sorted)):\n",
    "    # Get the next point to measure\n",
    "    pos_next = pos_sorted[i]\n",
    "    # Get the distance between next point and current point\n",
    "    distance_to_move = pos_next - pos0\n",
    "    exp.measure_fd(fname='FD_loc_{03d}_'.format(i), r=distance_to_move, v0=v0)\n",
    "    "
   ]
  }
 ],
 "metadata": {
  "kernelspec": {
   "display_name": "Python 3 (ipykernel)",
   "language": "python",
   "name": "python3"
  },
  "language_info": {
   "codemirror_mode": {
    "name": "ipython",
    "version": 3
   },
   "file_extension": ".py",
   "mimetype": "text/x-python",
   "name": "python",
   "nbconvert_exporter": "python",
   "pygments_lexer": "ipython3",
   "version": "3.11.5"
  },
  "toc": {
   "base_numbering": 1,
   "nav_menu": {},
   "number_sections": true,
   "sideBar": true,
   "skip_h1_title": false,
   "title_cell": "Table of Contents",
   "title_sidebar": "Contents",
   "toc_cell": false,
   "toc_position": {},
   "toc_section_display": true,
   "toc_window_display": false
  }
 },
 "nbformat": 4,
 "nbformat_minor": 5
}
