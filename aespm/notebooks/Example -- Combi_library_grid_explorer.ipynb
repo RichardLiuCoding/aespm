{
 "cells": [
  {
   "cell_type": "markdown",
   "id": "7ae5673e",
   "metadata": {},
   "source": [
    "# Import Packages"
   ]
  },
  {
   "cell_type": "code",
   "execution_count": 1,
   "id": "1df072ee",
   "metadata": {
    "ExecuteTime": {
     "end_time": "2024-04-11T02:28:35.939561Z",
     "start_time": "2024-04-11T02:28:35.181481Z"
    }
   },
   "outputs": [],
   "source": [
    "from igor2 import binarywave as bw\n",
    "\n",
    "import time\n",
    "import os\n",
    "import numpy as np\n",
    "import matplotlib.pyplot as plt\n",
    "from IPython.display import display, clear_output\n",
    "\n",
    "import shutil\n",
    "\n",
    "import aespm as ae"
   ]
  },
  {
   "cell_type": "code",
   "execution_count": 2,
   "id": "730750e1",
   "metadata": {
    "ExecuteTime": {
     "end_time": "2024-04-11T02:28:36.446127Z",
     "start_time": "2024-04-11T02:28:36.442288Z"
    }
   },
   "outputs": [],
   "source": [
    "step = 8e-3 / 20 # 8 mm in 20 steps\n",
    "\n",
    "folder = r\"C:\\Users\\Asylum User\\Documents\\Asylum Research Data\\240410\"\n",
    "\n",
    "exp = ae.Experiment(folder=folder)"
   ]
  },
  {
   "cell_type": "markdown",
   "id": "c0febf18",
   "metadata": {},
   "source": [
    "# Add custom functions for this experiment"
   ]
  },
  {
   "cell_type": "code",
   "execution_count": 21,
   "id": "7167fcbb",
   "metadata": {
    "ExecuteTime": {
     "end_time": "2024-04-11T02:49:19.097464Z",
     "start_time": "2024-04-11T02:49:19.089457Z"
    }
   },
   "outputs": [],
   "source": [
    "# Add custom functions to the experiment object\n",
    "\n",
    "# Function to read meter\n",
    "def read_meter(self, connection=None,):\n",
    "    '''\n",
    "    This is a read meter function.\n",
    "    '''\n",
    "    ae.write_spm(commands=\"GetMeter()\", connection=self.connection)\n",
    "    w = ae.ibw_read(r\"C:\\Users\\Asylum User\\Documents\\buffer\\Meter.ibw\", connection=self.connection)\n",
    "    return w.data\n",
    "\n",
    "exp.add_func(read_meter)\n",
    "\n",
    "# Function to set the deflection \n",
    "def set_deflection(self, defl=0.5):\n",
    "    \n",
    "    # Zero PD\n",
    "    self.execute(action='ZeroPD', wait=3)\n",
    "    \n",
    "    defl_read = self.read_meter()[1]\n",
    "\n",
    "    dart_init2 = [\n",
    "        ['SetpointDefl', defl_read+defl, None],\n",
    "        ['DARTTrigger', defl_read+defl, None],\n",
    "    ]\n",
    "    \n",
    "    self.execute_sequence(operation=dart_init2)\n",
    "\n",
    "exp.add_func(set_deflection)\n",
    "\n",
    "# Function to move the stage with the given displacement \n",
    "def stage(self, distance):\n",
    "    \n",
    "    # Enable the stage move --> 5 sec, 8 seconds for safety\n",
    "    self.execute('EnableStage', wait=8)\n",
    "    ae.move_stage(distance=distance)\n",
    "    time.sleep(2* 2)\n",
    "    self.execute('DisableStage', wait=1)\n",
    "    # Approaching to the sample surface --> 20 sec, let's use 30 seconds for safety\n",
    "    self.execute('StartApproach', wait=45)\n",
    "\n",
    "exp.add_func(stage)\n",
    "\n",
    "# Function to check the file number in a given folder\n",
    "def check_files(self):\n",
    "    return ae.check_file_number(path=self.folder)\n",
    "exp.add_func(check_files)\n",
    "\n",
    "# Function to start and save an AC scan\n",
    "def start_ac_scan(self, fname):\n",
    "    ac_scan = [\n",
    "            ['ChangeName', fname, None], # Change file names\n",
    "            ['Capture', None, None], # Capture an optical image\n",
    "            ['DownScan', None, 1.5], # Start a down scan\n",
    "            ['check_files', None, None], # Check file numbers in the data save folder\n",
    "        ]\n",
    "    self.execute_sequence(operation=ac_scan)\n",
    "\n",
    "exp.add_func(start_ac_scan)\n",
    "\n",
    "# Function to start and save an AC scan\n",
    "def start_dart_scan(self, fname):\n",
    "    dart_scan = [\n",
    "        ['ChangeName', fname, None], # Change file names\n",
    "        ['DownScan', None, 1.5], # Start a down scan\n",
    "        ['check_files', None, None], # Check file numbers in the data save folder\n",
    "    ]\n",
    "    self.execute_sequence(operation=dart_scan)\n",
    "\n",
    "exp.add_func(start_dart_scan)\n",
    "\n",
    "# Function to start and save an AC scan\n",
    "def start_dart_ss(self, fname):\n",
    "    dart_ss = [\n",
    "        ['ChangeName', fname, None], # Change file names\n",
    "        ['ClearForce', None, None], # Clear any existing force points\n",
    "        ['GoThere', None, 1], # Move to the center of the image\n",
    "        ['IVDoItDART', None, None], # Start a DART spec\n",
    "        ['check_files', None, 1], # Check file numbers in the data save folder\n",
    "    ]\n",
    "    self.execute_sequence(operation=dart_ss)\n",
    "\n",
    "exp.add_func(start_dart_ss)\n",
    "\n"
   ]
  },
  {
   "cell_type": "markdown",
   "id": "03ee2309",
   "metadata": {},
   "source": [
    "# AC mode exploration"
   ]
  },
  {
   "cell_type": "code",
   "execution_count": null,
   "id": "39fb8455",
   "metadata": {},
   "outputs": [],
   "source": [
    "displacement = [step, 0]\n",
    "num_points = 20\n",
    "\n",
    "# Map size\n",
    "xsize, ysize = 2.5e-6, 2.5e-6\n",
    "\n",
    "exp.execute('ScanSize', xsize)\n",
    "exp.execute('Pixels', value=512)\n",
    "\n",
    "# Initial sample height\n",
    "sample_height = 1.8e-3\n",
    "\n",
    "for i in range(num_points):\n",
    "    print(\"Working on Location: {}/{}\".format(i+1, num_points), end='\\r')\n",
    "   \n",
    "    # Skip the first point\n",
    "    if i:\n",
    "        # Move the stage to the next grid point\n",
    "        exe.execute('stage', value=[displacement])\n",
    "\n",
    "    # AC scan\n",
    "    exe.execute('start_ac_scan', value=['BSFO_AC{:03}_'.format(i+1)])"
   ]
  },
  {
   "cell_type": "markdown",
   "id": "a4237771",
   "metadata": {},
   "source": [
    "# DART exploration"
   ]
  },
  {
   "cell_type": "code",
   "execution_count": 8,
   "id": "b95ceb52",
   "metadata": {
    "ExecuteTime": {
     "end_time": "2024-04-11T02:33:26.131427Z",
     "start_time": "2024-04-11T02:33:26.126868Z"
    }
   },
   "outputs": [],
   "source": [
    "# Initialize all the parameter\n",
    "exp.update_param(key='f_ac', value=72.843e3)\n",
    "exp.update_param(key='v_ac', value=25e-3)\n",
    "exp.update_param(key='setpoint_ac', value=40e-3)\n",
    "\n",
    "exp.update_param(key='f_dart', value=353.125e3)\n",
    "exp.update_param(key='v_dart', value=1)\n",
    "exp.update_param(key='f_width', value=10e3)\n"
   ]
  },
  {
   "cell_type": "code",
   "execution_count": 10,
   "id": "33c66a9e",
   "metadata": {
    "ExecuteTime": {
     "end_time": "2024-04-11T02:33:28.615417Z",
     "start_time": "2024-04-11T02:33:28.610979Z"
    }
   },
   "outputs": [],
   "source": [
    "# serial actions to change from DART to AC mode \n",
    "\n",
    "ac_init = [\n",
    "    ['AC_Mode', None, 10], # Switch mode to AC\n",
    "    ['DualFreq', 0, 8],    # Turn off dual freq\n",
    "    ['DriveFreq', exp.param['f_ac'], None], # Change the drive freq to f_ac\n",
    "    ['DriveAmp', exp.param['v_ac'], None],  # Change the drive voltage to v_ac\n",
    "    ['SetpointAmp', exp.param['setpoint_ac'], None], # Change the setpoint\n",
    "]"
   ]
  },
  {
   "cell_type": "code",
   "execution_count": 22,
   "id": "6796edbe",
   "metadata": {
    "ExecuteTime": {
     "end_time": "2024-04-11T02:52:04.993564Z",
     "start_time": "2024-04-11T02:52:04.988383Z"
    }
   },
   "outputs": [],
   "source": [
    "# serial actions to change from DART to AC mode \n",
    "\n",
    "dart_init = [\n",
    "    ['PFM_Mode', None, 10], # Switch mode to DART\n",
    "    ['DualFreq', 1, 8],     # # Turn on dual freq\n",
    "    ['DARTFreq', exp.param['f_dart'], None], # Change the drive freq to f_fart\n",
    "    ['DARTSweepWidth', 100e3, None], # Change the sweep width to 100 kHz\n",
    "    ['DARTAmp', exp.param['v_dart'], None], # Change the drive voltage to 1 V\n",
    "    ['DARTWidth', exp.param['f_width'], None], # Change the freq separation to 10 kHz\n",
    "    ['set_deflection', 0.5, None], \n",
    "]"
   ]
  },
  {
   "cell_type": "code",
   "execution_count": null,
   "id": "2356167d",
   "metadata": {
    "ExecuteTime": {
     "start_time": "2024-04-10T23:14:49.714Z"
    }
   },
   "outputs": [
    {
     "name": "stdout",
     "output_type": "stream",
     "text": [
      "Working on Location: 10/20\r"
     ]
    }
   ],
   "source": [
    "displacement = [step, 0]\n",
    "tunes = []\n",
    "num_points = 20\n",
    "\n",
    "# Map size\n",
    "xsize, ysize = 2.5e-6, 2.5e-6\n",
    "pos0 = np.array([xsize/2, ysize/2])\n",
    "\n",
    "exp.execute('ScanSize', xsize)\n",
    "exp.execute('Pixels', value=512)\n",
    "\n",
    "# Initial sample height\n",
    "sample_height = 1.8e-3\n",
    "\n",
    "# Make sure we start from AC mode\n",
    "exp.execute_sequence(operation=dart_init)\n",
    "\n",
    "for i in range(num_points):\n",
    "    print(\"Working on Location: {}/{}\".format(i+1, num_points), end='\\r')\n",
    "   \n",
    "    # Skip the first point\n",
    "    if i:\n",
    "        # Move the stage to the next grid point\n",
    "        exp.execute('stage', value=[displacement])\n",
    "\n",
    "    # AC scan\n",
    "    exp.execute('start_ac_scan', value=['BSFO_AC{:03}_'.format(i+1)])\n",
    "    \n",
    "    # Change to DART mode\n",
    "    exp.execute_sequence(operation=dart_init)\n",
    "    \n",
    "    # Tune the probe\n",
    "    w = tune_probe(num=2, out=True, center=350e3)\n",
    "    ae.tunes.append(w)\n",
    "    \n",
    "    # Set the new deflection\n",
    "    exp.execute(action='set_deflection', value=0.5)\n",
    "    \n",
    "    # DART scan\n",
    "    exp.execute('start_dart_scan', value=['BSFO_DART{:03}_'.format(i+1)])\n",
    "\n",
    "    # DART Spec\n",
    "    exp.execute('start_dart_ss', value=['BSFO_SS{:03}_'.format(i+1)])\n",
    "\n",
    "    # Change the mode back to the AC mode\n",
    "    exp.execute_sequence(operation=ac_init)\n",
    "    \n",
    "np.savez('Tunes.npz', data=np.array(tunes))"
   ]
  },
  {
   "cell_type": "code",
   "execution_count": null,
   "id": "b0b076a8",
   "metadata": {},
   "outputs": [],
   "source": []
  }
 ],
 "metadata": {
  "kernelspec": {
   "display_name": "Python 3 (ipykernel)",
   "language": "python",
   "name": "python3"
  },
  "language_info": {
   "codemirror_mode": {
    "name": "ipython",
    "version": 3
   },
   "file_extension": ".py",
   "mimetype": "text/x-python",
   "name": "python",
   "nbconvert_exporter": "python",
   "pygments_lexer": "ipython3",
   "version": "3.9.16"
  },
  "toc": {
   "base_numbering": 1,
   "nav_menu": {},
   "number_sections": true,
   "sideBar": true,
   "skip_h1_title": false,
   "title_cell": "Table of Contents",
   "title_sidebar": "Contents",
   "toc_cell": false,
   "toc_position": {},
   "toc_section_display": true,
   "toc_window_display": false
  }
 },
 "nbformat": 4,
 "nbformat_minor": 5
}
